{
 "cells": [
  {
   "cell_type": "markdown",
   "id": "e988855c-def2-4c1d-b6f9-a385956c77e1",
   "metadata": {},
   "source": [
    "Q1. Explain with an example each when to use a for loop and a while loop."
   ]
  },
  {
   "cell_type": "markdown",
   "id": "4da3cdf9-c09c-47b7-827b-e69a29c0a5ed",
   "metadata": {},
   "source": [
    "A for loop is like when you're counting how many candies you have in your bag. You start from the first candy, count it, then move on to the next candy and count that one, and you keep doing that until you've counted all the candies in your bag. You know when you're done counting because you know exactly how many candies you have.\n",
    "\n",
    "A while loop is like when you're playing a game with your friends, and you keep playing until someone wins or until it's time to go home. You don't know how many times you'll play the game, but you keep playing until you reach a certain point, like when someone wins or when it's time to stop. For example, you might play tag with your friends until it gets too dark outside, and then you stop playing."
   ]
  },
  {
   "cell_type": "markdown",
   "id": "771aece7-f12a-404f-8961-f552b12bf709",
   "metadata": {},
   "source": [
    "Q2. Write a python program to print the sum and product of the first 10 natural numbers using for\n",
    "and while loop."
   ]
  },
  {
   "cell_type": "code",
   "execution_count": 2,
   "id": "dd0c479e-db49-4f82-9110-aa817ab0c395",
   "metadata": {},
   "outputs": [
    {
     "name": "stdout",
     "output_type": "stream",
     "text": [
      "55\n",
      "3628800\n"
     ]
    }
   ],
   "source": [
    "sum=0\n",
    "product=1\n",
    "n=10\n",
    "while(n) :\n",
    "    sum=sum+n\n",
    "    product=product*n\n",
    "    n=n-1\n",
    "print(sum)\n",
    "print(product)"
   ]
  },
  {
   "cell_type": "markdown",
   "id": "921cc321-0c3e-4c9d-9600-47dbb381dfa4",
   "metadata": {},
   "source": [
    "Q3. Create a python program to compute the electricity bill for a household. The per-unit charges in rupees are as follows: For the first 100 units, the user will be charged Rs. 4.5 per unit, for the next 100 units, the user will be charged Rs. 6 per unit, and for the next 100 units, the user will be charged Rs. 10 per unit, After 300 units and above the user will be charged Rs. 20 per unit."
   ]
  },
  {
   "cell_type": "code",
   "execution_count": 5,
   "id": "fe63e664-6715-4250-bae4-efbf697abcb7",
   "metadata": {},
   "outputs": [
    {
     "name": "stdin",
     "output_type": "stream",
     "text": [
      "Enter units : 310\n"
     ]
    },
    {
     "name": "stdout",
     "output_type": "stream",
     "text": [
      "2250\n"
     ]
    }
   ],
   "source": [
    "units= int(input(\"Enter units :\"))\n",
    "bill=0\n",
    "if (units>300):\n",
    "    bill=(units-300)*20+450+600+1000\n",
    "elif(units>200):\n",
    "    bill=bill+(units-200)*10+450+600\n",
    "elif(units>100) :\n",
    "    bill=bill+(units-100)*6+450\n",
    "    units=100\n",
    "else :\n",
    "    bill=bill+(units)*4.5\n",
    "print(bill)"
   ]
  },
  {
   "cell_type": "markdown",
   "id": "53b73f3b-e30c-4b96-9b3e-f096914fb6f4",
   "metadata": {},
   "source": [
    "Q4. Create a list of numbers from 1 to 100. Use for loop and while loop to calculate the cube of each\n",
    "number and if the cube of that number is divisible by 4 or 5 then append that number in a list and print\n",
    "that list."
   ]
  },
  {
   "cell_type": "code",
   "execution_count": 2,
   "id": "8161c6c1-c293-4c43-9f41-f1dfb5c35347",
   "metadata": {},
   "outputs": [
    {
     "name": "stdout",
     "output_type": "stream",
     "text": [
      "[0, 8, 64, 125, 216, 512, 1000, 1728, 2744, 3375, 4096, 5832, 8000, 10648, 13824, 15625, 17576, 21952, 27000, 32768, 39304, 42875, 46656, 54872, 64000, 74088, 85184, 91125, 97336, 110592, 125000, 140608, 157464, 166375, 175616, 195112, 216000, 238328, 262144, 274625, 287496, 314432, 343000, 373248, 405224, 421875, 438976, 474552, 512000, 551368, 592704, 614125, 636056, 681472, 729000, 778688, 830584, 857375, 884736, 941192, 1000000]\n"
     ]
    }
   ],
   "source": [
    "n=0\n",
    "number_list = []\n",
    "result = []\n",
    "while(n<=100) :\n",
    "    number_list.append(n)\n",
    "    n=n+1\n",
    "for i in number_list :\n",
    "    i=i**3\n",
    "    if(i%4==0 or i%5==0):\n",
    "        result.append(i)\n",
    "print(result)"
   ]
  },
  {
   "cell_type": "markdown",
   "id": "d14f73ca-90e0-455a-be3a-46318670e1f7",
   "metadata": {},
   "source": [
    "Q5. Write a program to filter count vowels in the below-given string.\n",
    "string = \"I want to become a data scientist\""
   ]
  },
  {
   "cell_type": "code",
   "execution_count": 5,
   "id": "0c9a0ba1-a62d-4b99-a732-1b885bf8fcdf",
   "metadata": {},
   "outputs": [
    {
     "name": "stdout",
     "output_type": "stream",
     "text": [
      "11\n"
     ]
    }
   ],
   "source": [
    "check = \"I want to become a data scientist\"\n",
    "result=0\n",
    "for i in check :\n",
    "    if(i=='a'or i=='e' or i=='i' or i=='o' or i=='u') :\n",
    "        result=result+1\n",
    "print(result)"
   ]
  }
 ],
 "metadata": {
  "kernelspec": {
   "display_name": "Python 3 (ipykernel)",
   "language": "python",
   "name": "python3"
  },
  "language_info": {
   "codemirror_mode": {
    "name": "ipython",
    "version": 3
   },
   "file_extension": ".py",
   "mimetype": "text/x-python",
   "name": "python",
   "nbconvert_exporter": "python",
   "pygments_lexer": "ipython3",
   "version": "3.10.8"
  }
 },
 "nbformat": 4,
 "nbformat_minor": 5
}
